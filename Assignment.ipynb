{
 "cells": [
  {
   "cell_type": "markdown",
   "metadata": {
    "id": "Hs3-rqQLaMOs"
   },
   "source": [
    "**Grand Assignment**"
   ]
  },
  {
   "cell_type": "markdown",
   "metadata": {
    "id": "yoFPv_Hcb3Iv"
   },
   "source": [
    "***Variables and Strings***"
   ]
  },
  {
   "cell_type": "markdown",
   "metadata": {
    "id": "XLAWmJh_b9vr"
   },
   "source": [
    "*1.**Simple Message:** Assign a message to a variable, and then print that\n",
    "message.* "
   ]
  },
  {
   "cell_type": "code",
   "execution_count": 1,
   "metadata": {
    "id": "Xu9FoVk1aKtu"
   },
   "outputs": [
    {
     "name": "stdout",
     "output_type": "stream",
     "text": [
      "This is Khalid Bagha\n"
     ]
    }
   ],
   "source": [
    "x= \"This is Khalid Bagha\"\n",
    "print(x)"
   ]
  },
  {
   "cell_type": "markdown",
   "metadata": {
    "id": "Ckp41qGzcMhY"
   },
   "source": [
    "2.Find a quote from a famous person you admire. Print the\n",
    "quote and the name of its author. Your output should look something like the\n",
    "following, including the quotation marks:\n",
    "\n",
    "**Albert Einstein once said, “A person who never made a\n",
    "mistake never tried anything new.”**\n"
   ]
  },
  {
   "cell_type": "code",
   "execution_count": 3,
   "metadata": {
    "id": "RAOYKTZDc9l5"
   },
   "outputs": [
    {
     "name": "stdout",
     "output_type": "stream",
     "text": [
      "Albert Einstein once said,\"A person who never made a mistake never tried anything new.\"\n"
     ]
    }
   ],
   "source": [
    "x= \"Albert Einstein\"\n",
    "y=\"A person who never made a mistake never tried anything new.\"\n",
    "\n",
    "print('{} once said,\"{}\"'.format(x,y))"
   ]
  },
  {
   "cell_type": "code",
   "execution_count": null,
   "metadata": {
    "id": "5dsWBIrAduRU"
   },
   "outputs": [],
   "source": [
    "*3. Use a variable to represent your favorite number. Then,\n",
    "using that variable, create a message that reveals your favorite number. Print\n",
    "that message*"
   ]
  },
  {
   "cell_type": "code",
   "execution_count": 4,
   "metadata": {
    "id": "n5bKUt2Xdxet"
   },
   "outputs": [
    {
     "name": "stdout",
     "output_type": "stream",
     "text": [
      "My fav no. is  10\n"
     ]
    }
   ],
   "source": [
    "x= 10\n",
    "print(\"My fav no. is \", x)"
   ]
  },
  {
   "cell_type": "markdown",
   "metadata": {
    "id": "03-7JmJFh1gu"
   },
   "source": [
    "4. **Calculate Area of a Circle::**\n",
    "\n",
    "Write a Python program which accepts the radius of a circle from the user and compute the area.\n",
    "\n",
    "Program Console Sample Output 1:\n",
    "\n",
    "Input Radius: 0.5\n",
    "\n",
    "Area of Circle with radius 0.5 is 0.7853981634"
   ]
  },
  {
   "cell_type": "code",
   "execution_count": 8,
   "metadata": {
    "id": "ZQqUhli7iD8V"
   },
   "outputs": [
    {
     "name": "stdout",
     "output_type": "stream",
     "text": [
      "enter radius: 0.5\n",
      "0.7855\n"
     ]
    }
   ],
   "source": [
    "pi = 3.142\n",
    "rad = eval(input(\"enter radius: \"))\n",
    "area = pi * (rad**2)\n",
    "print(area)"
   ]
  },
  {
   "cell_type": "markdown",
   "metadata": {
    "id": "_52LUHoriEdK"
   },
   "source": [
    "5. **Check Number either positive, negative or zero::**\n",
    "\n",
    "Write a Python program to check if a number is positive, \n",
    "\n",
    "negative or zero\n",
    "\n",
    "Program Console Sample Output 1:\n",
    "\n",
    "Enter Number: -1\n",
    "\n",
    "Negative Number Entered\n",
    "\n",
    "Program Console Sample Output 2:\n",
    "\n",
    "Integer: 3\n",
    "\n",
    "Positive Number Entered\n",
    "\n",
    "Program Console Sample Output 3:\n",
    "\n",
    "Integer: 0\n",
    "\n",
    "Zero Entered"
   ]
  },
  {
   "cell_type": "code",
   "execution_count": 10,
   "metadata": {
    "id": "_yLJAc80iXk0"
   },
   "outputs": [
    {
     "name": "stdout",
     "output_type": "stream",
     "text": [
      "Enter no: -4\n",
      "Negative number entered\n"
     ]
    }
   ],
   "source": [
    "x = int(input(\"Enter no: \"))\n",
    "if x == 0:\n",
    "    print(\"Zero Entered\")\n",
    "elif x > 0:\n",
    "    print(\"Positive number entered\")\n",
    "elif x < 0: \n",
    "    print(\"Negative number entered\")\n",
    "    "
   ]
  },
  {
   "cell_type": "markdown",
   "metadata": {
    "id": "vjXA6uhpiYQX"
   },
   "source": [
    "6. **Vowel Tester**\n",
    "Write a Python program to test whether a passed letter is a vowel or not\n",
    "\n",
    "Program Console Output 1:\n",
    "\n",
    "Enter a character: A\n",
    "\n",
    "Letter A is Vowel\n",
    "\n",
    "Program Console Output 2:\n",
    "\n",
    "Enter a character: e\n",
    "\n",
    "Letter e is Vowel\n",
    "\n",
    "Program Console Output 2:\n",
    "\n",
    "Enter a character: N\n",
    "\n",
    "Letter N is not Vowel."
   ]
  },
  {
   "cell_type": "code",
   "execution_count": 13,
   "metadata": {
    "id": "L62zqtG1jEb9"
   },
   "outputs": [
    {
     "name": "stdout",
     "output_type": "stream",
     "text": [
      "Enter letter  B\n",
      "Letter B is not vowel \n"
     ]
    }
   ],
   "source": [
    "l = ['a','e','i','o','u','A','E','I','O','U']\n",
    "inp = input(\"Enter letter  \")\n",
    "if inp in l :\n",
    "    print(\"Letter {} is vowel \".format(inp) )\n",
    "else:\n",
    "     print(\"Letter {} is not vowel \".format(inp) )\n"
   ]
  },
  {
   "cell_type": "markdown",
   "metadata": {
    "id": "qZIGjsnDjFdk"
   },
   "source": [
    "7. **BMI Calculator**\n",
    "\n",
    "Write a Python program to calculate body mass index\n",
    "Program Console Sample 1:\n",
    "\n",
    "Enter Height in Cm: 180\n",
    "\n",
    "Enter Weight in Kg: 75\n",
    "\n",
    "Your BMI is 23.15"
   ]
  },
  {
   "cell_type": "code",
   "execution_count": 19,
   "metadata": {
    "id": "lE-JyyTnjcJU"
   },
   "outputs": [
    {
     "name": "stdout",
     "output_type": "stream",
     "text": [
      "enter weight in kg: 75\n",
      "enter height in cm: 180\n",
      "Yout BMI is 23.15\n"
     ]
    }
   ],
   "source": [
    "kg = eval(input(\"enter weight in kg: \"))\n",
    "cm = eval(input(\"enter height in cm: \"))\n",
    "m = cm / 100\n",
    "r = kg/(m**2)\n",
    "print(\"Yout BMI is\",round(r,2))\n"
   ]
  },
  {
   "cell_type": "markdown",
   "metadata": {
    "id": "11fYzZYid3qq"
   },
   "source": [
    "**List::**"
   ]
  },
  {
   "cell_type": "markdown",
   "metadata": {
    "id": "oUNnrKdyeOks"
   },
   "source": [
    "8. **Store the names of a few of your friends in a list called names**\n",
    "\n",
    " Print each person’s name by accessing each element in the list, one at a time."
   ]
  },
  {
   "cell_type": "code",
   "execution_count": 9,
   "metadata": {
    "id": "RY49qmHQeOGB"
   },
   "outputs": [
    {
     "name": "stdout",
     "output_type": "stream",
     "text": [
      "Kashif\n",
      "Saad\n",
      "Osama\n",
      "Owais\n"
     ]
    }
   ],
   "source": [
    "name = [\"Kashif\",\"Saad\",\"Osama\",\"Owais\"]\n",
    "for x in name:\n",
    "    print(x)"
   ]
  },
  {
   "cell_type": "markdown",
   "metadata": {
    "id": "HQe4CmBLd0a0"
   },
   "source": [
    "9. Start with the list you used in Question 4, but instead of just  printing each person’s name, print a message to them. The text of each message should be the same, but each message should be personalized with the\n",
    "person’s name."
   ]
  },
  {
   "cell_type": "code",
   "execution_count": 20,
   "metadata": {
    "id": "QfaA6SZieroG"
   },
   "outputs": [
    {
     "name": "stdout",
     "output_type": "stream",
     "text": [
      "Kashif is my friend from Karachi\n",
      "Saad is my friend from Karachi\n",
      "Osama is my friend from Karachi\n",
      "Owais is my friend from Karachi\n"
     ]
    }
   ],
   "source": [
    "for x in name:\n",
    "    print(x,\"is my friend from Karachi\")"
   ]
  },
  {
   "cell_type": "markdown",
   "metadata": {
    "id": "3t-zoTSTesyI"
   },
   "source": [
    " 10.**Make a python program that conatains your nine favourite dishes in a list called foods.**\n",
    "Print the message, The first three items in the list are:\n",
    "\n",
    "Then use a slice to print the first three items from that program’s list.\n",
    "\n",
    "Print the message, Three items from the middle of the list are:\n",
    "\n",
    "Use a slice to print three items from the middle of the list.\n",
    "\n",
    "Print the message, The last three items in the list are:\n",
    "\n",
    "Use a slice to print the last three items in the list."
   ]
  },
  {
   "cell_type": "code",
   "execution_count": 35,
   "metadata": {
    "id": "ZpnPQbgAmQhu"
   },
   "outputs": [
    {
     "name": "stdout",
     "output_type": "stream",
     "text": [
      "First 3 items are: Biryani,Khawsa,Kebab\n",
      "Middle 3 items are: Daal,Qeema,Karahi\n",
      "Last 3 items are: Lobia,Pulao,Haleem\n"
     ]
    }
   ],
   "source": [
    "foods = [\"Biryani\",\"Khawsa\",\"Kebab\",\"Daal\",\"Qeema\",\"Karahi\",\"Lobia\",\"Pulao\",\"Haleem\"]\n",
    "\n",
    "print(\"First 3 items are:\" , ','.join(foods[:3]))\n",
    "print(\"Middle 3 items are:\" , ','.join(foods[3:6]))\n",
    "print(\"Last 3 items are:\" , ','.join(foods[-3:]))\n"
   ]
  },
  {
   "cell_type": "markdown",
   "metadata": {
    "id": "h37WaaZKmRMe"
   },
   "source": [
    "11. **Start with your program from your last Question8.**\n",
    "Make a copy of the list of foods, and call it friend_foods.\n",
    "Then, do the following:\n",
    "\n",
    "Add a new dish to the original list.\n",
    "\n",
    "Add a different dish to the list friend_foods.\n",
    "\n",
    "Prove that you have two separate lists.\n",
    "\n",
    "Print the message, My favorite pizzas are: and then use a for loop to print the first list.\n",
    "\n",
    "Print the message,\n",
    "\n",
    "My friend’s favorite foods are:, and then use a for loop to print the second list.\n",
    "\n",
    "NOTE: Make sure each new dish is stored in the appropriate list."
   ]
  },
  {
   "cell_type": "code",
   "execution_count": 36,
   "metadata": {
    "id": "6FvxV2CioBQB"
   },
   "outputs": [
    {
     "name": "stdout",
     "output_type": "stream",
     "text": [
      "Friend's Food\n",
      "Biryani,Khawsa,Kebab,Daal,Qeema,Karahi,Lobia,Pulao,Haleem,Chicken Tikka Pizza\n",
      "\n",
      "Original Food List\n",
      "Biryani,Khawsa,Kebab,Daal,Qeema,Karahi,Lobia,Pulao,Haleem,Qorma\n"
     ]
    }
   ],
   "source": [
    "import copy as cp\n",
    "friend_foods = cp.copy(foods)\n",
    "foods.append(\"Qorma\")\n",
    "friend_foods.append(\"Chicken Tikka Pizza\")\n",
    "\n",
    "print(\"Friend's Food\")\n",
    "print(','.join(friend_foods))\n",
    "print()\n",
    "\n",
    "print(\"Original Food List\")\n",
    "print(','.join(foods))"
   ]
  },
  {
   "cell_type": "code",
   "execution_count": 39,
   "metadata": {},
   "outputs": [
    {
     "name": "stdout",
     "output_type": "stream",
     "text": [
      "My favourite Pizzas are: \n",
      "\n",
      "Biryani\n",
      "Khawsa\n",
      "Kebab\n",
      "Daal\n",
      "Qeema\n",
      "Karahi\n",
      "Lobia\n",
      "Pulao\n",
      "Haleem\n",
      "Qorma\n"
     ]
    }
   ],
   "source": [
    "print(\"My favourite Pizzas are: \\n\")\n",
    "for x in foods:\n",
    "    print(x)"
   ]
  },
  {
   "cell_type": "code",
   "execution_count": 42,
   "metadata": {},
   "outputs": [
    {
     "name": "stdout",
     "output_type": "stream",
     "text": [
      "My friend’s favorite foods are:\n",
      "\n",
      "Biryani\n",
      "Khawsa\n",
      "Kebab\n",
      "Daal\n",
      "Qeema\n",
      "Karahi\n",
      "Lobia\n",
      "Pulao\n",
      "Haleem\n",
      "Chicken Tikka Pizza\n"
     ]
    }
   ],
   "source": [
    "print(\"My friend’s favorite foods are:\\n\")\n",
    "for x in friend_foods:\n",
    "    print(x)"
   ]
  }
 ],
 "metadata": {
  "colab": {
   "collapsed_sections": [],
   "name": "Assignment.ipynb",
   "provenance": []
  },
  "kernelspec": {
   "display_name": "Python 3",
   "language": "python",
   "name": "python3"
  },
  "language_info": {
   "codemirror_mode": {
    "name": "ipython",
    "version": 3
   },
   "file_extension": ".py",
   "mimetype": "text/x-python",
   "name": "python",
   "nbconvert_exporter": "python",
   "pygments_lexer": "ipython3",
   "version": "3.8.8"
  }
 },
 "nbformat": 4,
 "nbformat_minor": 1
}
